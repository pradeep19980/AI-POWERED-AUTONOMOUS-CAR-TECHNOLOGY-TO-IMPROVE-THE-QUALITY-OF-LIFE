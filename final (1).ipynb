{
 "cells": [
  {
   "cell_type": "code",
   "execution_count": null,
   "metadata": {},
   "outputs": [],
   "source": [
    "#importing the necessary libray\n",
    "import pandas as pd\n",
    "import numpy as np\n",
    "import os\n",
    "import cv2\n",
    "\n",
    "import matplotlib.pyplot as plt\n",
    "import matplotlib.image as mpimg\n",
    "\n",
    "from sklearn.model_selection import train_test_split\n",
    "\n",
    "from tensorflow.keras.models import Sequential\n",
    "from tensorflow.keras.optimizers import Adam\n",
    "from tensorflow.keras.callbacks import ModelCheckpoint\n",
    "from tensorflow.keras.layers import Lambda, Conv2D, MaxPooling2D, Dropout, Dense, Flatten\n",
    "from tensorflow.keras.models import load_model"
   ]
  },
  {
   "cell_type": "code",
   "execution_count": null,
   "metadata": {},
   "outputs": [],
   "source": [
    "#Root path for the data and csv file\n",
    "PATH = r\"C:\\Users\\pradeep reddy\\Desktop\\data\""
   ]
  },
  {
   "cell_type": "code",
   "execution_count": null,
   "metadata": {},
   "outputs": [],
   "source": [
    "#reading the dataset\n",
    "df = pd.read_csv(PATH+\"\\driving_log.csv\", names=['center_cam', 'left_cam', 'right_cam', 'steering_angle', 'throttle_value', 'reverse_value', 'speed'])"
   ]
  },
  {
   "cell_type": "code",
   "execution_count": null,
   "metadata": {},
   "outputs": [],
   "source": [
    "#checking the dataset head\n",
    "df.head()"
   ]
  },
  {
   "cell_type": "code",
   "execution_count": null,
   "metadata": {},
   "outputs": [],
   "source": [
    "#preprocess the image function\n",
    "def preprocess_the_image(image):\n",
    "    #reshaping the image\n",
    "    image = image[60:-25, :, :]\n",
    "    #resizing the image\n",
    "    image = cv2.resize(image, (64, 64), cv2.INTER_AREA)\n",
    "    #converting to RGB color\n",
    "    image = cv2.cvtColor(image, cv2.COLOR_RGB2YUV)\n",
    "    #adding blur to image\n",
    "    image = cv2.GaussianBlur(image, (3, 3), 0)\n",
    "    #returing the image\n",
    "    return image"
   ]
  },
  {
   "cell_type": "code",
   "execution_count": null,
   "metadata": {},
   "outputs": [],
   "source": [
    "def load_image_from_dir(data_dir, image_file):\n",
    "    #loading the image and then return the image\n",
    "    return mpimg.imread(os.path.join(data_dir, image_file.strip()))"
   ]
  },
  {
   "cell_type": "code",
   "execution_count": null,
   "metadata": {},
   "outputs": [],
   "source": [
    "#generating batch of data\n",
    "def batch_gen(PATH, train_X, train_y, batch_size, training):\n",
    "    #creating empty numpy arrays\n",
    "    images = np.empty((batch_size, 64, 64, 3))\n",
    "    steers = np.empty(batch_size) \n",
    "    #while loop untill break \n",
    "    while 1:\n",
    "        count = 0\n",
    "        #loading each batch\n",
    "        for i in np.random.permutation(train_X.shape[0]):\n",
    "            #getting three image\n",
    "            center, left, right = train_X[i]\n",
    "            #getting sterring angle\n",
    "            steering_angle = train_y[i]\n",
    "            \n",
    "            #loading the images from directory\n",
    "            image = load_image_from_dir(PATH, center)\n",
    "            \n",
    "            # add the image and steering angle to the batch\n",
    "            images[count] = preprocess_the_image(image)\n",
    "            steers[count] = steering_angle\n",
    "            count += 1\n",
    "            \n",
    "            #breaking the loop if exceed count\n",
    "            if count == batch_size:\n",
    "                break\n",
    "                \n",
    "        #yeild the images and steerr angle\n",
    "        yield images, steers"
   ]
  },
  {
   "cell_type": "code",
   "execution_count": null,
   "metadata": {},
   "outputs": [],
   "source": [
    "#Reading the three images path as input data\n",
    "X = df[['center_cam', 'left_cam', 'right_cam']].values\n",
    "\n",
    "#reading the steering angle as the output data\n",
    "y = df['steering_angle'].values\n",
    "\n",
    "#splitting the data as train and test set\n",
    "train_X, test_X, train_y, test_y = train_test_split(X, y, test_size=0.2, random_state=0)"
   ]
  },
  {
   "cell_type": "code",
   "execution_count": null,
   "metadata": {},
   "outputs": [],
   "source": [
    "#checking the shape of the train data\n",
    "print(f'{train_X.shape} {test_X.shape}')"
   ]
  },
  {
   "cell_type": "code",
   "execution_count": null,
   "metadata": {},
   "outputs": [],
   "source": [
    "#checking the shape of the test data\n",
    "print(f'{train_y.shape} {test_y.shape}')"
   ]
  },
  {
   "cell_type": "code",
   "execution_count": null,
   "metadata": {},
   "outputs": [],
   "source": [
    "# Build model\n",
    "\n",
    "#sequential model\n",
    "model = Sequential()\n",
    "\n",
    "#Adding lambda for the input layer for \n",
    "model.add(Lambda(lambda x: x/255.0 - 0.5, input_shape=(64, 64, 3)))\n",
    "\n",
    "#conv layer for feature extraction\n",
    "model.add(Conv2D(3, (1, 1), activation='elu'))\n",
    "model.add(Conv2D(32, (3, 3), activation='elu'))\n",
    "model.add(Conv2D(32, (3, 3), activation='elu'))\n",
    "model.add(MaxPooling2D((2, 2)))\n",
    "model.add(Dropout(0.35))\n",
    "model.add(Conv2D(64, (3, 3), activation='elu'))\n",
    "model.add(Conv2D(64, (3, 3), activation='elu'))\n",
    "model.add(MaxPooling2D((2, 2)))\n",
    "model.add(Dropout(0.35))\n",
    "model.add(Conv2D(128, (3, 3), activation='elu'))\n",
    "model.add(Conv2D(128, (3, 3), activation='elu'))\n",
    "model.add(MaxPooling2D((2, 2)))\n",
    "model.add(Dropout(0.35))\n",
    "\n",
    "#flatting the 3d to 1d \n",
    "model.add(Flatten())\n",
    "\n",
    "#classification process\n",
    "model.add(Dense(512, activation='elu'))\n",
    "model.add(Dense(64, activation='elu'))\n",
    "model.add(Dense(16, activation='elu'))\n",
    "model.add(Dense(1))\n",
    "\n",
    "#summary of the model\n",
    "model.summary()\n",
    "\n",
    "#compiling the model with mse loss and adam optiizer\n",
    "model.compile(loss='mse', optimizer=Adam(lr=0.0002))"
   ]
  },
  {
   "cell_type": "code",
   "execution_count": null,
   "metadata": {},
   "outputs": [],
   "source": [
    "#initilizing the model checkpoint \n",
    "checkpoint = ModelCheckpoint(\n",
    "    'my_mod/model-{epoch:03d}.h5',\n",
    "    monitor='val_loss',\n",
    "    verbose=0,\n",
    "    save_best_only=True,\n",
    "    mode='auto'\n",
    ")\n",
    "\n",
    "#training the model\n",
    "history = model.fit(\n",
    "    batch_gen(PATH, train_X, train_y, 32, True),\n",
    "    epochs=100,\n",
    "    initial_epoch=0,\n",
    "    steps_per_epoch=200,\n",
    "    validation_data=batch_gen(PATH, test_X, test_y, 32, False),\n",
    "    validation_steps=np.ceil(len(test_X) / 32),\n",
    "    callbacks=[checkpoint],\n",
    "    verbose=2\n",
    ")"
   ]
  },
  {
   "cell_type": "code",
   "execution_count": null,
   "metadata": {},
   "outputs": [],
   "source": [
    "model.save(\"final_model.h5\")"
   ]
  },
  {
   "cell_type": "code",
   "execution_count": null,
   "metadata": {
    "scrolled": true
   },
   "outputs": [],
   "source": [
    "#plotting the loss and val loss\n",
    "plt.plot(history.history['loss'])\n",
    "plt.plot(history.history['val_loss'])\n",
    "plt.legend(['train', 'val'])\n",
    "plt.title('loss')\n",
    "plt.xlabel('epoch')"
   ]
  },
  {
   "cell_type": "code",
   "execution_count": null,
   "metadata": {},
   "outputs": [],
   "source": []
  },
  {
   "cell_type": "code",
   "execution_count": null,
   "metadata": {},
   "outputs": [],
   "source": []
  },
  {
   "cell_type": "code",
   "execution_count": null,
   "metadata": {},
   "outputs": [],
   "source": []
  }
 ],
 "metadata": {
  "kernelspec": {
   "display_name": "Python 3",
   "language": "python",
   "name": "python3"
  },
  "language_info": {
   "codemirror_mode": {
    "name": "ipython",
    "version": 3
   },
   "file_extension": ".py",
   "mimetype": "text/x-python",
   "name": "python",
   "nbconvert_exporter": "python",
   "pygments_lexer": "ipython3",
   "version": "3.8.8"
  }
 },
 "nbformat": 4,
 "nbformat_minor": 4
}
